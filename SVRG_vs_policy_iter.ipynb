{
 "cells": [
  {
   "cell_type": "code",
   "execution_count": 1,
   "id": "89b7aa38",
   "metadata": {},
   "outputs": [],
   "source": [
    "import torch\n",
    "import numpy as np\n",
    "import matplotlib.pyplot as plt\n",
    "%load_ext autoreload\n",
    "%autoreload 2\n",
    "\n",
    "from mdp_env import build_dataset\n",
    "from SVRG_solver import solve"
   ]
  },
  {
   "cell_type": "code",
   "execution_count": 2,
   "id": "5240da60",
   "metadata": {},
   "outputs": [
    {
     "data": {
      "text/plain": [
       "'cuda:0'"
      ]
     },
     "execution_count": 2,
     "metadata": {},
     "output_type": "execute_result"
    }
   ],
   "source": [
    "device = 'cuda:0' if torch.cuda.is_available() else 'cpu'\n",
    "device"
   ]
  },
  {
   "cell_type": "code",
   "execution_count": 3,
   "id": "fc4ad387",
   "metadata": {},
   "outputs": [
    {
     "name": "stdout",
     "output_type": "stream",
     "text": [
      "dict_keys(['P', 'stat_dist', 'R', 'dataset', 'PHI', 'theta_pi_true', 'A_hat', 'C_hat', 'theta_est'])\n"
     ]
    }
   ],
   "source": [
    "dim = 400\n",
    "f_dim = 21\n",
    "length = 5000\n",
    "gamma = 0.95\n",
    "args = {'dim' : dim, 'f_dim' : f_dim, 'num_episodes' : length,\n",
    "        'solve' : True, 'gamma' : gamma, 'PHI' : 'random'}\n",
    "problem_set = build_dataset(args)\n",
    "print(problem_set.keys())"
   ]
  },
  {
   "cell_type": "code",
   "execution_count": 4,
   "id": "54a46deb",
   "metadata": {},
   "outputs": [
    {
     "data": {
      "text/plain": [
       "(0.0007844448555260897, 40793.17975581487)"
      ]
     },
     "execution_count": 4,
     "metadata": {},
     "output_type": "execute_result"
    }
   ],
   "source": [
    "eig_min = torch.linalg.eigvals(1/2*(problem_set['A_hat']+ problem_set['A_hat'].T) ).real.min().item()\n",
    "eig_min, 32/eig_min"
   ]
  },
  {
   "cell_type": "code",
   "execution_count": 21,
   "id": "6bb54074",
   "metadata": {},
   "outputs": [
    {
     "name": "stdout",
     "output_type": "stream",
     "text": [
      "Number of updates in epoch: 36541\n",
      "Starting epoch 1\n",
      "Starting epoch 2\n",
      "Starting epoch 3\n",
      "Starting epoch 4\n",
      "Starting epoch 5\n",
      "Starting epoch 6\n",
      "Starting epoch 7\n",
      "Starting epoch 8\n",
      "Starting epoch 9\n",
      "CPU times: total: 2min 12s\n",
      "Wall time: 2min 13s\n"
     ]
    }
   ],
   "source": [
    "%%time\n",
    "from SVRG_solver import solve\n",
    "\n",
    "with torch.no_grad():\n",
    "    experiment_results = {}\n",
    "    problem_set = build_dataset(args)\n",
    "    problem_set['theta_init'] =  torch.ones((f_dim, 1)).to(device)\n",
    "    args['num_outer'] = 20\n",
    "    for i in range(1,2):\n",
    "        result = solve(problem_set, args)"
   ]
  },
  {
   "cell_type": "code",
   "execution_count": 22,
   "id": "ab3858ec",
   "metadata": {},
   "outputs": [
    {
     "data": {
      "text/plain": [
       "dict_keys(['distances', 'thetas', 'milestones'])"
      ]
     },
     "execution_count": 22,
     "metadata": {},
     "output_type": "execute_result"
    }
   ],
   "source": [
    "result.keys()"
   ]
  },
  {
   "cell_type": "code",
   "execution_count": 23,
   "id": "ecb915cf",
   "metadata": {},
   "outputs": [
    {
     "data": {
      "image/png": "[encoded data removed]",
      "text/plain": [
       "<Figure size 432x288 with 1 Axes>"
      ]
     },
     "metadata": {
      "needs_background": "light"
     },
     "output_type": "display_data"
    }
   ],
   "source": [
    "plt.plot(result['distances'], 'r.')\n",
    "plt.yscale('log')\n",
    "plt.show()"
   ]
  },
  {
   "cell_type": "code",
   "execution_count": 37,
   "id": "4f46b592",
   "metadata": {
    "scrolled": true
   },
   "outputs": [],
   "source": [
    "from policy_iter_solve import solve as pi_solve"
   ]
  },
  {
   "cell_type": "code",
   "execution_count": 47,
   "id": "079f34d1",
   "metadata": {
    "scrolled": false
   },
   "outputs": [
    {
     "name": "stdout",
     "output_type": "stream",
     "text": [
      "Reached milestone 54646\n",
      "Reached milestone 93534\n",
      "Reached milestone 152251\n",
      "Reached milestone 193011\n",
      "Reached milestone 241432\n",
      "Reached milestone 280354\n",
      "Reached milestone 333709\n",
      "Reached milestone 375011\n",
      "Reached milestone 423511\n",
      "CPU times: total: 4min 52s\n",
      "Wall time: 4min 58s\n"
     ]
    }
   ],
   "source": [
    "%%time\n",
    "problem_set['milestones'] = result['milestones']\n",
    "args['learning_rate'] = 'const'\n",
    "result2 = pi_solve(problem_set, args)"
   ]
  },
  {
   "cell_type": "code",
   "execution_count": 48,
   "id": "cc71a232",
   "metadata": {},
   "outputs": [
    {
     "name": "stdout",
     "output_type": "stream",
     "text": [
      "Reached milestone 54646\n",
      "Reached milestone 93534\n",
      "Reached milestone 152251\n",
      "Reached milestone 193011\n",
      "Reached milestone 241432\n",
      "Reached milestone 280354\n",
      "Reached milestone 333709\n",
      "Reached milestone 375011\n",
      "Reached milestone 423511\n",
      "CPU times: total: 4min 46s\n",
      "Wall time: 4min 52s\n"
     ]
    }
   ],
   "source": [
    "%%time\n",
    "problem_set['milestones'] = result['milestones']\n",
    "args['learning_rate'] = 'root'\n",
    "result3 = pi_solve(problem_set, args)"
   ]
  },
  {
   "cell_type": "code",
   "execution_count": 34,
   "id": "84425dbf",
   "metadata": {},
   "outputs": [
    {
     "data": {
      "text/plain": [
       "[0, 54646, 93534, 152251, 193011, 241432, 280354, 333709, 375011, 423511]"
      ]
     },
     "execution_count": 34,
     "metadata": {},
     "output_type": "execute_result"
    }
   ],
   "source": [
    "problem_set['milestones']"
   ]
  },
  {
   "cell_type": "code",
   "execution_count": 49,
   "id": "86506d95",
   "metadata": {},
   "outputs": [
    {
     "data": {
      "image/png": "[encoded data removed]",
      "text/plain": [
       "<Figure size 432x288 with 1 Axes>"
      ]
     },
     "metadata": {
      "needs_background": "light"
     },
     "output_type": "display_data"
    }
   ],
   "source": [
    "plt.plot(result['distances'], 'r.')\n",
    "plt.plot(result2['distances'], 'b.')\n",
    "plt.plot(result3['distances'], 'g.')\n",
    "plt.yscale('log')\n",
    "plt.show()"
   ]
  },
  {
   "cell_type": "code",
   "execution_count": 50,
   "id": "f4f2057f",
   "metadata": {},
   "outputs": [
    {
     "name": "stdout",
     "output_type": "stream",
     "text": [
      "Reached milestone 54646\n",
      "Reached milestone 93534\n",
      "Reached milestone 152251\n",
      "Reached milestone 193011\n",
      "Reached milestone 241432\n",
      "Reached milestone 280354\n",
      "Reached milestone 333709\n",
      "Reached milestone 375011\n",
      "Reached milestone 423511\n",
      "CPU times: total: 4min 55s\n",
      "Wall time: 4min 59s\n"
     ]
    }
   ],
   "source": [
    "%%time\n",
    "problem_set['milestones'] = result['milestones']\n",
    "args['learning_rate'] = 'decr'\n",
    "result4 = pi_solve(problem_set, args)"
   ]
  },
  {
   "cell_type": "code",
   "execution_count": 51,
   "id": "9f7ae96e",
   "metadata": {},
   "outputs": [
    {
     "data": {
      "image/png": "[encoded data removed]",
      "text/plain": [
       "<Figure size 432x288 with 1 Axes>"
      ]
     },
     "metadata": {
      "needs_background": "light"
     },
     "output_type": "display_data"
    }
   ],
   "source": [
    "plt.plot(result['distances'], 'r.')\n",
    "plt.plot(result2['distances'], 'b.')\n",
    "plt.plot(result3['distances'], 'g.')\n",
    "plt.plot(result4['distances'], 'y.')\n",
    "plt.yscale('log')\n",
    "plt.show()"
   ]
  },
  {
   "cell_type": "code",
   "execution_count": 52,
   "id": "286849b6",
   "metadata": {},
   "outputs": [
    {
     "name": "stdout",
     "output_type": "stream",
     "text": [
      "Reached milestone 54646\n",
      "Reached milestone 93534\n",
      "Reached milestone 152251\n",
      "Reached milestone 193011\n",
      "Reached milestone 241432\n",
      "Reached milestone 280354\n",
      "Reached milestone 333709\n",
      "Reached milestone 375011\n",
      "Reached milestone 423511\n",
      "CPU times: total: 4min 53s\n",
      "Wall time: 4min 58s\n"
     ]
    }
   ],
   "source": [
    "%%time\n",
    "problem_set['milestones'] = result['milestones']\n",
    "args['learning_rate'] = 1/16\n",
    "result5 = pi_solve(problem_set, args)"
   ]
  },
  {
   "cell_type": "code",
   "execution_count": 63,
   "id": "9863cde7",
   "metadata": {},
   "outputs": [
    {
     "data": {
      "image/png": "[encoded data removed]",
      "text/plain": [
       "<Figure size 864x576 with 1 Axes>"
      ]
     },
     "metadata": {
      "needs_background": "light"
     },
     "output_type": "display_data"
    }
   ],
   "source": [
    "plt.figure(figsize=(12,8))\n",
    "plt.title('Convergence of different algorithms')\n",
    "plt.plot(result['milestones'], result['distances'], 'r.', label='SVRG')\n",
    "plt.plot(result['milestones'], result2['distances'], 'b.', label='LR=1')\n",
    "plt.plot(result['milestones'], result3['distances'], 'g.', label='LR=sqrt(N)')\n",
    "plt.plot(result['milestones'], result4['distances'], 'y.', label='LR=1/T')\n",
    "plt.plot(result['milestones'], result5['distances'], 'k.', label='LR=1/16')\n",
    "plt.legend()\n",
    "plt.yscale('log')\n",
    "plt.xlabel('Number of iterations')\n",
    "plt.ylabel('Distance to optimal (log scale)')\n",
    "plt.savefig('Experiment_results.png')"
   ]
  },
  {
   "cell_type": "code",
   "execution_count": 9,
   "id": "ecb9fbea",
   "metadata": {},
   "outputs": [
    {
     "name": "stdout",
     "output_type": "stream",
     "text": [
      "dict_keys(['P', 'stat_dist', 'R', 'dataset', 'PHI', 'theta_pi_true', 'A_hat', 'C_hat', 'theta_est'])\n"
     ]
    }
   ],
   "source": [
    "dim = 400\n",
    "f_dim = 21\n",
    "length = 5000\n",
    "gamma = 0.95\n",
    "args = {'dim' : dim, 'f_dim' : f_dim, 'num_episodes' : length,\n",
    "        'solve' : True, 'gamma' : gamma, 'PHI' : 'random', 'dtype' : torch.float64}\n",
    "problem_set = build_dataset(args)\n",
    "print(problem_set.keys())"
   ]
  },
  {
   "cell_type": "code",
   "execution_count": 10,
   "id": "99f6017e",
   "metadata": {},
   "outputs": [
    {
     "data": {
      "text/plain": [
       "torch.float64"
      ]
     },
     "execution_count": 10,
     "metadata": {},
     "output_type": "execute_result"
    }
   ],
   "source": [
    "problem_set['P'].dtype"
   ]
  },
  {
   "cell_type": "code",
   "execution_count": 11,
   "id": "46cab4b5",
   "metadata": {},
   "outputs": [
    {
     "name": "stdout",
     "output_type": "stream",
     "text": [
      "Number of updates in epoch: 31944\n",
      "Starting epoch 1\n",
      "Starting epoch 2\n",
      "Starting epoch 3\n",
      "Starting epoch 4\n",
      "Starting epoch 5\n",
      "Starting epoch 6\n",
      "Starting epoch 7\n",
      "Starting epoch 8\n",
      "Starting epoch 9\n",
      "Starting epoch 10\n",
      "Starting epoch 11\n",
      "Starting epoch 12\n",
      "Starting epoch 13\n",
      "Starting epoch 14\n",
      "Starting epoch 15\n",
      "Starting epoch 16\n",
      "Starting epoch 17\n",
      "Starting epoch 18\n",
      "Starting epoch 19\n",
      "Starting epoch 20\n",
      "CPU times: total: 5min 23s\n",
      "Wall time: 5min 24s\n"
     ]
    }
   ],
   "source": [
    "%%time\n",
    "from SVRG_solver import solve\n",
    "\n",
    "with torch.no_grad():\n",
    "    experiment_results = {}\n",
    "    problem_set = build_dataset(args)\n",
    "    problem_set['theta_init'] =  torch.ones((f_dim, 1), dtype=args['dtype']).to(device)\n",
    "    args['num_outer'] = 20\n",
    "    for i in range(1,2):\n",
    "        result = solve(problem_set, args)"
   ]
  },
  {
   "cell_type": "code",
   "execution_count": 12,
   "id": "c31d3eaa",
   "metadata": {},
   "outputs": [
    {
     "data": {
      "image/png": "[encoded data removed]",
      "text/plain": [
       "<Figure size 432x288 with 1 Axes>"
      ]
     },
     "metadata": {
      "needs_background": "light"
     },
     "output_type": "display_data"
    }
   ],
   "source": [
    "plt.plot(result['distances'], 'r.')\n",
    "plt.yscale('log')\n",
    "plt.show()"
   ]
  },
  {
   "cell_type": "code",
   "execution_count": 15,
   "id": "1d342429",
   "metadata": {},
   "outputs": [
    {
     "name": "stdout",
     "output_type": "stream",
     "text": [
      "Reached milestone 33441\n",
      "Reached milestone 44071\n",
      "Reached milestone 80557\n",
      "Reached milestone 111477\n",
      "Reached milestone 141127\n",
      "Reached milestone 167955\n",
      "Reached milestone 197725\n",
      "Reached milestone 217716\n",
      "Reached milestone 239714\n",
      "Reached milestone 251690\n",
      "Reached milestone 256990\n",
      "Reached milestone 292239\n",
      "Reached milestone 318992\n",
      "Reached milestone 339563\n",
      "Reached milestone 367240\n",
      "Reached milestone 377578\n",
      "Reached milestone 391747\n",
      "Reached milestone 397425\n",
      "Reached milestone 416500\n",
      "Reached milestone 432427\n",
      "Reached milestone 33441\n",
      "Reached milestone 44071\n",
      "Reached milestone 80557\n",
      "Reached milestone 111477\n",
      "Reached milestone 141127\n",
      "Reached milestone 167955\n",
      "Reached milestone 197725\n",
      "Reached milestone 217716\n",
      "Reached milestone 239714\n",
      "Reached milestone 251690\n",
      "Reached milestone 256990\n",
      "Reached milestone 292239\n",
      "Reached milestone 318992\n",
      "Reached milestone 339563\n",
      "Reached milestone 367240\n",
      "Reached milestone 377578\n",
      "Reached milestone 391747\n",
      "Reached milestone 397425\n",
      "Reached milestone 416500\n",
      "Reached milestone 432427\n",
      "Reached milestone 33441\n",
      "Reached milestone 44071\n",
      "Reached milestone 80557\n",
      "Reached milestone 111477\n",
      "Reached milestone 141127\n",
      "Reached milestone 167955\n",
      "Reached milestone 197725\n",
      "Reached milestone 217716\n",
      "Reached milestone 239714\n",
      "Reached milestone 251690\n",
      "Reached milestone 256990\n",
      "Reached milestone 292239\n",
      "Reached milestone 318992\n",
      "Reached milestone 339563\n",
      "Reached milestone 367240\n",
      "Reached milestone 377578\n",
      "Reached milestone 391747\n",
      "Reached milestone 397425\n",
      "Reached milestone 416500\n",
      "Reached milestone 432427\n",
      "Reached milestone 33441\n",
      "Reached milestone 44071\n",
      "Reached milestone 80557\n",
      "Reached milestone 111477\n",
      "Reached milestone 141127\n",
      "Reached milestone 167955\n",
      "Reached milestone 197725\n",
      "Reached milestone 217716\n",
      "Reached milestone 239714\n",
      "Reached milestone 251690\n",
      "Reached milestone 256990\n",
      "Reached milestone 292239\n",
      "Reached milestone 318992\n",
      "Reached milestone 339563\n",
      "Reached milestone 367240\n",
      "Reached milestone 377578\n",
      "Reached milestone 391747\n",
      "Reached milestone 397425\n",
      "Reached milestone 416500\n",
      "Reached milestone 432427\n",
      "CPU times: total: 17min 46s\n",
      "Wall time: 17min 56s\n"
     ]
    }
   ],
   "source": [
    "%%time\n",
    "\n",
    "from policy_iter_solve import solve as pi_solve\n",
    "problem_set['milestones'] = result['milestones']\n",
    "args['learning_rate'] = 'const'\n",
    "result2 = pi_solve(problem_set, args)\n",
    "\n",
    "args['learning_rate'] = 'root'\n",
    "result3 = pi_solve(problem_set, args)\n",
    "\n",
    "args['learning_rate'] = 'decr'\n",
    "result4 = pi_solve(problem_set, args)\n",
    "\n",
    "args['learning_rate'] = 1/16\n",
    "result5 = pi_solve(problem_set, args)"
   ]
  },
  {
   "cell_type": "code",
   "execution_count": 17,
   "id": "8ca8e388",
   "metadata": {},
   "outputs": [
    {
     "data": {
      "image/png": "[encoded data removed]",
      "text/plain": [
       "<Figure size 864x576 with 1 Axes>"
      ]
     },
     "metadata": {
      "needs_background": "light"
     },
     "output_type": "display_data"
    }
   ],
   "source": [
    "plt.figure(figsize=(12,8))\n",
    "plt.title('Convergence of different algorithms')\n",
    "plt.plot(result['milestones'], result['distances'], 'r.', label='SVRG')\n",
    "plt.plot(result['milestones'], result2['distances'], 'b.', label='LR=1')\n",
    "plt.plot(result['milestones'], result3['distances'], 'g.', label='LR=sqrt(N)')\n",
    "plt.plot(result['milestones'], result4['distances'], 'y.', label='LR=1/T')\n",
    "plt.plot(result['milestones'], result5['distances'], 'k.', label='LR=1/16')\n",
    "plt.legend()\n",
    "plt.yscale('log')\n",
    "plt.xlabel('Number of iterations')\n",
    "plt.ylabel('Distance to optimal (log scale)')\n",
    "plt.savefig('Experiment_results_fixed.png')"
   ]
  },
  {
   "cell_type": "code",
   "execution_count": 23,
   "id": "23164f07",
   "metadata": {},
   "outputs": [
    {
     "name": "stdout",
     "output_type": "stream",
     "text": [
      "dict_keys(['P', 'stat_dist', 'R', 'dataset', 'PHI', 'theta_pi_true', 'A_hat', 'C_hat', 'theta_est'])\n"
     ]
    }
   ],
   "source": [
    "dim = 50\n",
    "f_dim = 50\n",
    "length = 5000\n",
    "gamma = 0.95\n",
    "args = {'dim' : dim, 'f_dim' : f_dim, 'num_episodes' : length,\n",
    "        'solve' : True, 'gamma' : gamma, 'PHI' : 'tabular', 'dtype' : torch.float64}\n",
    "problem_set = build_dataset(args)\n",
    "print(problem_set.keys())"
   ]
  },
  {
   "cell_type": "code",
   "execution_count": 24,
   "id": "f6510e6b",
   "metadata": {},
   "outputs": [
    {
     "data": {
      "text/plain": [
       "(0.0009980818291532925, 32061.4994335151)"
      ]
     },
     "execution_count": 24,
     "metadata": {},
     "output_type": "execute_result"
    }
   ],
   "source": [
    "eig_min = torch.linalg.eigvals(1/2*(problem_set['A_hat']+ problem_set['A_hat'].T) ).real.min().item()\n",
    "eig_min, 32/eig_min"
   ]
  },
  {
   "cell_type": "code",
   "execution_count": 26,
   "id": "cd64d881",
   "metadata": {},
   "outputs": [
    {
     "name": "stdout",
     "output_type": "stream",
     "text": [
      "Number of updates in epoch: 32070\n",
      "Starting epoch 1\n",
      "Starting epoch 2\n",
      "Starting epoch 3\n",
      "Starting epoch 4\n",
      "Starting epoch 5\n",
      "Starting epoch 6\n",
      "Starting epoch 7\n",
      "Starting epoch 8\n",
      "Starting epoch 9\n",
      "Starting epoch 10\n",
      "Starting epoch 11\n",
      "Starting epoch 12\n",
      "Starting epoch 13\n",
      "Starting epoch 14\n",
      "Starting epoch 15\n",
      "Starting epoch 16\n",
      "Starting epoch 17\n",
      "Starting epoch 18\n",
      "Starting epoch 19\n",
      "Starting epoch 20\n",
      "CPU times: total: 5min 42s\n",
      "Wall time: 5min 44s\n"
     ]
    }
   ],
   "source": [
    "%%time\n",
    "from SVRG_solver import solve\n",
    "\n",
    "with torch.no_grad():\n",
    "    experiment_results = {}\n",
    "    problem_set = build_dataset(args)\n",
    "    problem_set['theta_init'] =  torch.ones((f_dim, 1), dtype=args['dtype']).to(device)\n",
    "    args['num_outer'] = 20\n",
    "    for i in range(1,2):\n",
    "        result = solve(problem_set, args)"
   ]
  },
  {
   "cell_type": "code",
   "execution_count": 27,
   "id": "30248c2d",
   "metadata": {},
   "outputs": [
    {
     "data": {
      "image/png": "[encoded data removed]",
      "text/plain": [
       "<Figure size 432x288 with 1 Axes>"
      ]
     },
     "metadata": {
      "needs_background": "light"
     },
     "output_type": "display_data"
    }
   ],
   "source": [
    "plt.plot(result['distances'], 'r.')\n",
    "plt.yscale('log')\n",
    "plt.show()"
   ]
  },
  {
   "cell_type": "code",
   "execution_count": 28,
   "id": "f0d71407",
   "metadata": {},
   "outputs": [
    {
     "name": "stdout",
     "output_type": "stream",
     "text": [
      "Reached milestone 26461\n",
      "Reached milestone 54641\n",
      "Reached milestone 60965\n",
      "Reached milestone 96257\n",
      "Reached milestone 124018\n",
      "Reached milestone 143776\n",
      "Reached milestone 173064\n",
      "Reached milestone 185645\n",
      "Reached milestone 199632\n",
      "Reached milestone 205828\n",
      "Reached milestone 223512\n",
      "Reached milestone 239896\n",
      "Reached milestone 274926\n",
      "Reached milestone 296021\n",
      "Reached milestone 318371\n",
      "Reached milestone 346504\n",
      "Reached milestone 369505\n",
      "Reached milestone 398848\n",
      "Reached milestone 419259\n",
      "Reached milestone 440264\n",
      "Reached milestone 26461\n",
      "Reached milestone 54641\n",
      "Reached milestone 60965\n",
      "Reached milestone 96257\n",
      "Reached milestone 124018\n",
      "Reached milestone 143776\n",
      "Reached milestone 173064\n",
      "Reached milestone 185645\n",
      "Reached milestone 199632\n",
      "Reached milestone 205828\n",
      "Reached milestone 223512\n",
      "Reached milestone 239896\n",
      "Reached milestone 274926\n",
      "Reached milestone 296021\n",
      "Reached milestone 318371\n",
      "Reached milestone 346504\n",
      "Reached milestone 369505\n",
      "Reached milestone 398848\n",
      "Reached milestone 419259\n",
      "Reached milestone 440264\n",
      "Reached milestone 26461\n",
      "Reached milestone 54641\n",
      "Reached milestone 60965\n",
      "Reached milestone 96257\n",
      "Reached milestone 124018\n",
      "Reached milestone 143776\n",
      "Reached milestone 173064\n",
      "Reached milestone 185645\n",
      "Reached milestone 199632\n",
      "Reached milestone 205828\n",
      "Reached milestone 223512\n",
      "Reached milestone 239896\n",
      "Reached milestone 274926\n",
      "Reached milestone 296021\n",
      "Reached milestone 318371\n",
      "Reached milestone 346504\n",
      "Reached milestone 369505\n",
      "Reached milestone 398848\n",
      "Reached milestone 419259\n",
      "Reached milestone 440264\n",
      "Reached milestone 26461\n",
      "Reached milestone 54641\n",
      "Reached milestone 60965\n",
      "Reached milestone 96257\n",
      "Reached milestone 124018\n",
      "Reached milestone 143776\n",
      "Reached milestone 173064\n",
      "Reached milestone 185645\n",
      "Reached milestone 199632\n",
      "Reached milestone 205828\n",
      "Reached milestone 223512\n",
      "Reached milestone 239896\n",
      "Reached milestone 274926\n",
      "Reached milestone 296021\n",
      "Reached milestone 318371\n",
      "Reached milestone 346504\n",
      "Reached milestone 369505\n",
      "Reached milestone 398848\n",
      "Reached milestone 419259\n",
      "Reached milestone 440264\n",
      "CPU times: total: 19min\n",
      "Wall time: 19min 11s\n"
     ]
    }
   ],
   "source": [
    "%%time\n",
    "\n",
    "from policy_iter_solve import solve as pi_solve\n",
    "problem_set['milestones'] = result['milestones']\n",
    "args['learning_rate'] = 'const'\n",
    "result2 = pi_solve(problem_set, args)\n",
    "\n",
    "args['learning_rate'] = 'root'\n",
    "result3 = pi_solve(problem_set, args)\n",
    "\n",
    "args['learning_rate'] = 'decr'\n",
    "result4 = pi_solve(problem_set, args)\n",
    "\n",
    "args['learning_rate'] = 1/16\n",
    "result5 = pi_solve(problem_set, args)"
   ]
  },
  {
   "cell_type": "code",
   "execution_count": 29,
   "id": "2ca2fed3",
   "metadata": {},
   "outputs": [
    {
     "data": {
      "image/png": "[encoded data removed]",
      "text/plain": [
       "<Figure size 864x576 with 1 Axes>"
      ]
     },
     "metadata": {
      "needs_background": "light"
     },
     "output_type": "display_data"
    }
   ],
   "source": [
    "plt.figure(figsize=(12,8))\n",
    "plt.title('Convergence of different algorithms')\n",
    "plt.plot(result['milestones'], result['distances'], 'r.', label='SVRG')\n",
    "plt.plot(result['milestones'], result2['distances'], 'b.', label='LR=1')\n",
    "plt.plot(result['milestones'], result3['distances'], 'g.', label='LR=sqrt(N)')\n",
    "plt.plot(result['milestones'], result4['distances'], 'y.', label='LR=1/T')\n",
    "plt.plot(result['milestones'], result5['distances'], 'k.', label='LR=1/16')\n",
    "plt.legend()\n",
    "plt.yscale('log')\n",
    "plt.xlabel('Number of iterations')\n",
    "plt.ylabel('Distance to optimal (log scale)')\n",
    "plt.savefig('Experiment_results_tabular.png')"
   ]
  },
  {
   "cell_type": "code",
   "execution_count": null,
   "id": "bfd2b49f",
   "metadata": {},
   "outputs": [],
   "source": []
  }
 ],
 "metadata": {
  "kernelspec": {
   "display_name": "Python 3 (ipykernel)",
   "language": "python",
   "name": "python3"
  },
  "language_info": {
   "codemirror_mode": {
    "name": "ipython",
    "version": 3
   },
   "file_extension": ".py",
   "mimetype": "text/x-python",
   "name": "python",
   "nbconvert_exporter": "python",
   "pygments_lexer": "ipython3",
   "version": "3.9.12"
  }
 },
 "nbformat": 4,
 "nbformat_minor": 5
}
