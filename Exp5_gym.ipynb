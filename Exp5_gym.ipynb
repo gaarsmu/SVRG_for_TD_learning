{
 "cells": [
  {
   "cell_type": "code",
   "execution_count": 1,
   "id": "ff65480f",
   "metadata": {},
   "outputs": [],
   "source": [
    "import torch\n",
    "import numpy as np\n",
    "import matplotlib.pyplot as plt\n",
    "%load_ext autoreload\n",
    "%autoreload 2\n",
    "\n",
    "from gym_env import build_dataset\n",
    "from SVRG_solver import solve"
   ]
  },
  {
   "cell_type": "code",
   "execution_count": 2,
   "id": "79f5d3d8",
   "metadata": {},
   "outputs": [
    {
     "data": {
      "text/plain": [
       "'cuda:0'"
      ]
     },
     "execution_count": 2,
     "metadata": {},
     "output_type": "execute_result"
    }
   ],
   "source": [
    "device = 'cuda:0' if torch.cuda.is_available() else 'cpu'\n",
    "device"
   ]
  },
  {
   "cell_type": "code",
   "execution_count": 5,
   "id": "1070585d",
   "metadata": {},
   "outputs": [
    {
     "name": "stdout",
     "output_type": "stream",
     "text": [
      "dict_keys(['dataset', 'PHI', 'A_hat', 'C_hat', 'b_hat', 'theta_est'])\n"
     ]
    }
   ],
   "source": [
    "args = {'num_episodes' : 5000, 'environment': 'Acrobot-v1', 'num_kernels' : 3,  \n",
    "        'solve' : True, 'gamma' : 0.9, 'dtype': torch.float64, 'feat_threshold' : 0.75}\n",
    "problem_set = build_dataset(args)\n",
    "print(problem_set.keys())"
   ]
  },
  {
   "cell_type": "code",
   "execution_count": 7,
   "id": "901d459d",
   "metadata": {},
   "outputs": [
    {
     "name": "stdout",
     "output_type": "stream",
     "text": [
      "torch.Size([16, 5001])\n"
     ]
    },
    {
     "data": {
      "text/plain": [
       "(5.259601308569201e-05, 304205.56732944783)"
      ]
     },
     "execution_count": 7,
     "metadata": {},
     "output_type": "execute_result"
    }
   ],
   "source": [
    "print(problem_set['PHI'].shape)\n",
    "A_hat = problem_set['A_hat']\n",
    "eig_min = torch.linalg.eigvals(1/2*(A_hat+ A_hat.T) ).real.min().item()\n",
    "eig_min, 16/eig_min"
   ]
  },
  {
   "cell_type": "code",
   "execution_count": null,
   "id": "3c5831b2",
   "metadata": {},
   "outputs": [],
   "source": []
  }
 ],
 "metadata": {
  "kernelspec": {
   "display_name": "Python 3 (ipykernel)",
   "language": "python",
   "name": "python3"
  },
  "language_info": {
   "codemirror_mode": {
    "name": "ipython",
    "version": 3
   },
   "file_extension": ".py",
   "mimetype": "text/x-python",
   "name": "python",
   "nbconvert_exporter": "python",
   "pygments_lexer": "ipython3",
   "version": "3.9.12"
  }
 },
 "nbformat": 4,
 "nbformat_minor": 5
}
